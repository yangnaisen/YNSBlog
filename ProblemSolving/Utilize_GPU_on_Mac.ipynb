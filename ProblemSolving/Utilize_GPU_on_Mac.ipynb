{
 "cells": [
  {
   "cell_type": "markdown",
   "metadata": {},
   "source": [
    "# 使用Mac的GPU跑神经网络"
   ]
  },
  {
   "cell_type": "markdown",
   "metadata": {},
   "source": [
    "TensorFlow 和 PyTorch 等深度学习的开源代码，一般只能运行在 NVIDIA 的 GPU 上，对于 Mac 上的 AMD 的 GPU 并不支持。使用 Intel 推出的开源代码库 PlaidML，可以使得深度学习的代码也可以运行在 MacOS 上。"
   ]
  },
  {
   "cell_type": "markdown",
   "metadata": {},
   "source": [
    "这里，我们可以在 Python 的环境中使用下面的命令来安装它："
   ]
  },
  {
   "cell_type": "markdown",
   "metadata": {},
   "source": [
    "```pip install plaidml-keras```"
   ]
  },
  {
   "cell_type": "markdown",
   "metadata": {},
   "source": [
    "完成安装后，还需要让代码适配本机的 GPU 。使用下面的代码来进行配置：\n",
    "\n",
    "```plaidml-setup```"
   ]
  },
  {
   "cell_type": "markdown",
   "metadata": {},
   "source": [
    "![](images/plaidml_setup_0.png)"
   ]
  },
  {
   "cell_type": "markdown",
   "metadata": {},
   "source": [
    "在给出的选项里选择不支持实验性的设备。目前的笔记本为 MacBook Pro 2019版 16寸，在下面的选项里选择默认设备为 AMD 的 GPU ，并保存设置文件："
   ]
  },
  {
   "cell_type": "markdown",
   "metadata": {},
   "source": [
    "![](images/plaidml_setup_1.png)"
   ]
  },
  {
   "cell_type": "markdown",
   "metadata": {},
   "source": [
    "使用下面的代码，就可以让 Keras 的默认后端为 PlaidML，代替默认的 TensorFlow："
   ]
  },
  {
   "cell_type": "code",
   "execution_count": 3,
   "metadata": {},
   "outputs": [],
   "source": [
    "import plaidml.keras\n",
    "plaidml.keras.install_backend()\n",
    "import os\n",
    "os.environ[\"KERAS_BACKEND\"] = \"plaidml.keras.backend\""
   ]
  },
  {
   "cell_type": "markdown",
   "metadata": {},
   "source": [
    "为了测试GPU的效率和代码的正确性，可以在 MNIST 数据集市上跑一个标准的小型CNN代码，代码下载地址为： https://github.com/keras-team/keras/blob/master/examples/mnist_cnn.py"
   ]
  },
  {
   "cell_type": "code",
   "execution_count": 4,
   "metadata": {},
   "outputs": [],
   "source": [
    "def test_speed_of_device(use_tensorflow = False):\n",
    "    '''Trains a simple convnet on the MNIST dataset.\n",
    "    Gets to 99.25% test accuracy after 12 epochs\n",
    "    (there is still a lot of margin for parameter tuning).\n",
    "    16 seconds per epoch on a GRID K520 GPU.\n",
    "    '''\n",
    "\n",
    "    #from __future__ import print_function\n",
    "    if use_tensorflow:\n",
    "        from tensorflow import keras\n",
    "        from tensorflow.keras.datasets import mnist\n",
    "        from tensorflow.keras.models import Sequential\n",
    "        from tensorflow.keras.layers import Dense, Dropout, Flatten\n",
    "        from tensorflow.keras.layers import Conv2D, MaxPooling2D\n",
    "        from tensorflow.keras import backend as K\n",
    "    else:\n",
    "        import keras\n",
    "        from keras.datasets import mnist\n",
    "        from keras.models import Sequential\n",
    "        from keras.layers import Dense, Dropout, Flatten\n",
    "        from keras.layers import Conv2D, MaxPooling2D\n",
    "        from keras import backend as K\n",
    "\n",
    "    batch_size = 128\n",
    "    num_classes = 10\n",
    "    epochs = 12\n",
    "\n",
    "    # input image dimensions\n",
    "    img_rows, img_cols = 28, 28\n",
    "\n",
    "    # the data, split between train and test sets\n",
    "    (x_train, y_train), (x_test, y_test) = mnist.load_data()\n",
    "\n",
    "    if K.image_data_format() == 'channels_first':\n",
    "        x_train = x_train.reshape(x_train.shape[0], 1, img_rows, img_cols)\n",
    "        x_test = x_test.reshape(x_test.shape[0], 1, img_rows, img_cols)\n",
    "        input_shape = (1, img_rows, img_cols)\n",
    "    else:\n",
    "        x_train = x_train.reshape(x_train.shape[0], img_rows, img_cols, 1)\n",
    "        x_test = x_test.reshape(x_test.shape[0], img_rows, img_cols, 1)\n",
    "        input_shape = (img_rows, img_cols, 1)\n",
    "\n",
    "    x_train = x_train.astype('float32')\n",
    "    x_test = x_test.astype('float32')\n",
    "    x_train /= 255\n",
    "    x_test /= 255\n",
    "    print('x_train shape:', x_train.shape)\n",
    "    print(x_train.shape[0], 'train samples')\n",
    "    print(x_test.shape[0], 'test samples')\n",
    "\n",
    "    # convert class vectors to binary class matrices\n",
    "    y_train = keras.utils.to_categorical(y_train, num_classes)\n",
    "    y_test = keras.utils.to_categorical(y_test, num_classes)\n",
    "\n",
    "    model = Sequential()\n",
    "    model.add(Conv2D(32, kernel_size=(3, 3),\n",
    "                     activation='relu',\n",
    "                     input_shape=input_shape))\n",
    "    model.add(Conv2D(64, (3, 3), activation='relu'))\n",
    "    model.add(MaxPooling2D(pool_size=(2, 2)))\n",
    "    model.add(Dropout(0.25))\n",
    "    model.add(Flatten())\n",
    "    model.add(Dense(128, activation='relu'))\n",
    "    model.add(Dropout(0.5))\n",
    "    model.add(Dense(num_classes, activation='softmax'))\n",
    "\n",
    "    model.compile(loss=keras.losses.categorical_crossentropy,\n",
    "                  optimizer=keras.optimizers.Adadelta(),\n",
    "                  metrics=['accuracy'])\n",
    "\n",
    "    model.fit(x_train, y_train,\n",
    "              batch_size=batch_size,\n",
    "              epochs=epochs,\n",
    "              verbose=1,\n",
    "              validation_data=(x_test, y_test))\n",
    "    score = model.evaluate(x_test, y_test, verbose=0)\n",
    "    print('Test loss:', score[0])\n",
    "    print('Test accuracy:', score[1])"
   ]
  },
  {
   "cell_type": "markdown",
   "metadata": {},
   "source": [
    "8个CPU在PlaidML中运行一个epoch的时间为2140s，运行时间比较慢："
   ]
  },
  {
   "cell_type": "code",
   "execution_count": null,
   "metadata": {},
   "outputs": [],
   "source": [
    "os.environ[\"PLAIDML_DEVICE_IDS\"] = \"llvm_cpu.0\"\n",
    "test_speed_of_device()"
   ]
  },
  {
   "cell_type": "markdown",
   "metadata": {},
   "source": [
    "Intel的集成显卡运行时间为122s,并且运行结果并不正确："
   ]
  },
  {
   "cell_type": "code",
   "execution_count": 3,
   "metadata": {},
   "outputs": [
    {
     "name": "stdout",
     "output_type": "stream",
     "text": [
      "x_train shape: (60000, 28, 28, 1)\n",
      "60000 train samples\n",
      "10000 test samples\n"
     ]
    },
    {
     "name": "stderr",
     "output_type": "stream",
     "text": [
      "INFO:plaidml:Opening device \"metal_intel(r)_uhd_graphics_630.0\"\n"
     ]
    },
    {
     "name": "stdout",
     "output_type": "stream",
     "text": [
      "Train on 60000 samples, validate on 10000 samples\n",
      "Epoch 1/3\n",
      "60000/60000 [==============================] - 131s 2ms/step - loss: nan - acc: 0.0988 - val_loss: nan - val_acc: 0.0980\n",
      "Epoch 2/3\n",
      "60000/60000 [==============================] - 134s 2ms/step - loss: nan - acc: 0.0987 - val_loss: nan - val_acc: 0.0980\n",
      "Epoch 3/3\n",
      "60000/60000 [==============================] - 122s 2ms/step - loss: nan - acc: 0.0987 - val_loss: nan - val_acc: 0.0980\n",
      "Test loss: nan\n",
      "Test accuracy: 0.098\n"
     ]
    }
   ],
   "source": [
    "os.environ[\"PLAIDML_DEVICE_IDS\"] = \"metal_intel(r)_uhd_graphics_630.0\"\n",
    "test_speed_of_device()"
   ]
  },
  {
   "cell_type": "markdown",
   "metadata": {},
   "source": [
    "AMD显卡GPU的运行时间为14s："
   ]
  },
  {
   "cell_type": "code",
   "execution_count": 5,
   "metadata": {},
   "outputs": [
    {
     "name": "stdout",
     "output_type": "stream",
     "text": [
      "x_train shape: (60000, 28, 28, 1)\n",
      "60000 train samples\n",
      "10000 test samples\n"
     ]
    },
    {
     "name": "stderr",
     "output_type": "stream",
     "text": [
      "INFO:plaidml:Opening device \"metal_amd_radeon_pro_5500m.0\"\n"
     ]
    },
    {
     "name": "stdout",
     "output_type": "stream",
     "text": [
      "Train on 60000 samples, validate on 10000 samples\n",
      "Epoch 1/12\n",
      "60000/60000 [==============================] - 15s 252us/step - loss: 0.2645 - acc: 0.9191 - val_loss: 0.0648 - val_acc: 0.9786\n",
      "Epoch 2/12\n",
      "60000/60000 [==============================] - 14s 236us/step - loss: 0.0901 - acc: 0.9736 - val_loss: 0.0412 - val_acc: 0.9861\n",
      "Epoch 3/12\n",
      "60000/60000 [==============================] - 14s 237us/step - loss: 0.0677 - acc: 0.9803 - val_loss: 0.0332 - val_acc: 0.9890\n",
      "Epoch 4/12\n",
      "60000/60000 [==============================] - 14s 236us/step - loss: 0.0569 - acc: 0.9836 - val_loss: 0.0308 - val_acc: 0.9900\n",
      "Epoch 5/12\n",
      "60000/60000 [==============================] - 14s 240us/step - loss: 0.0501 - acc: 0.9851 - val_loss: 0.0308 - val_acc: 0.9893\n",
      "Epoch 6/12\n",
      "60000/60000 [==============================] - 14s 241us/step - loss: 0.0425 - acc: 0.9870 - val_loss: 0.0289 - val_acc: 0.9900\n",
      "Epoch 7/12\n",
      "60000/60000 [==============================] - 14s 242us/step - loss: 0.0378 - acc: 0.9886 - val_loss: 0.0289 - val_acc: 0.9911\n",
      "Epoch 8/12\n",
      "60000/60000 [==============================] - 14s 240us/step - loss: 0.0347 - acc: 0.9896 - val_loss: 0.0265 - val_acc: 0.9915\n",
      "Epoch 9/12\n",
      "60000/60000 [==============================] - 14s 241us/step - loss: 0.0326 - acc: 0.9901 - val_loss: 0.0284 - val_acc: 0.9909\n",
      "Epoch 10/12\n",
      "60000/60000 [==============================] - 14s 240us/step - loss: 0.0320 - acc: 0.9905 - val_loss: 0.0304 - val_acc: 0.9902\n",
      "Epoch 11/12\n",
      "60000/60000 [==============================] - 14s 239us/step - loss: 0.0294 - acc: 0.9909 - val_loss: 0.0294 - val_acc: 0.9909\n",
      "Epoch 12/12\n",
      "60000/60000 [==============================] - 15s 242us/step - loss: 0.0268 - acc: 0.9915 - val_loss: 0.0263 - val_acc: 0.9920\n",
      "Test loss: 0.026291526639461518\n",
      "Test accuracy: 0.992\n"
     ]
    }
   ],
   "source": [
    "#os.environ[\"PLAIDML_EXPERIMENTAL\"] = \"False\"\n",
    "os.environ[\"PLAIDML_DEVICE_IDS\"] = \"metal_amd_radeon_pro_5500m.0\"\n",
    "test_speed_of_device()"
   ]
  },
  {
   "cell_type": "markdown",
   "metadata": {},
   "source": [
    "可以看到在TensorFlow2.0中8个CPU的情况下， 网络运行一个epoch的时间约为64s，单个CPU的运行时间约为512s："
   ]
  },
  {
   "cell_type": "code",
   "execution_count": 3,
   "metadata": {},
   "outputs": [
    {
     "name": "stdout",
     "output_type": "stream",
     "text": [
      "x_train shape: (60000, 28, 28, 1)\n",
      "60000 train samples\n",
      "10000 test samples\n",
      "Train on 60000 samples, validate on 10000 samples\n",
      "Epoch 1/12\n",
      "60000/60000 [==============================] - 72s 1ms/sample - loss: 2.2901 - accuracy: 0.1454 - val_loss: 2.2715 - val_accuracy: 0.3572\n",
      "Epoch 2/12\n",
      "60000/60000 [==============================] - 75s 1ms/sample - loss: 2.2605 - accuracy: 0.2444 - val_loss: 2.2341 - val_accuracy: 0.5318\n",
      "Epoch 3/12\n",
      "60000/60000 [==============================] - 70s 1ms/sample - loss: 2.2202 - accuracy: 0.3416 - val_loss: 2.1836 - val_accuracy: 0.6062\n",
      "Epoch 4/12\n",
      "60000/60000 [==============================] - 71s 1ms/sample - loss: 2.1647 - accuracy: 0.4164 - val_loss: 2.1115 - val_accuracy: 0.6468\n",
      "Epoch 5/12\n",
      "60000/60000 [==============================] - 71s 1ms/sample - loss: 2.0862 - accuracy: 0.4709 - val_loss: 2.0081 - val_accuracy: 0.6786\n",
      "Epoch 6/12\n",
      "60000/60000 [==============================] - 69s 1ms/sample - loss: 1.9775 - accuracy: 0.5102 - val_loss: 1.8648 - val_accuracy: 0.7021\n",
      "Epoch 7/12\n",
      "60000/60000 [==============================] - 71s 1ms/sample - loss: 1.8333 - accuracy: 0.5447 - val_loss: 1.6804 - val_accuracy: 0.7216\n",
      "Epoch 8/12\n",
      "60000/60000 [==============================] - 66s 1ms/sample - loss: 1.6641 - accuracy: 0.5771 - val_loss: 1.4732 - val_accuracy: 0.7441\n",
      "Epoch 9/12\n",
      "60000/60000 [==============================] - 63s 1ms/sample - loss: 1.4899 - accuracy: 0.6066 - val_loss: 1.2712 - val_accuracy: 0.7673\n",
      "Epoch 10/12\n",
      "60000/60000 [==============================] - 64s 1ms/sample - loss: 1.3355 - accuracy: 0.6323 - val_loss: 1.0982 - val_accuracy: 0.7838\n",
      "Epoch 11/12\n",
      "60000/60000 [==============================] - 65s 1ms/sample - loss: 1.2065 - accuracy: 0.6558 - val_loss: 0.9618 - val_accuracy: 0.7994\n",
      "Epoch 12/12\n",
      "60000/60000 [==============================] - 66s 1ms/sample - loss: 1.1046 - accuracy: 0.6770 - val_loss: 0.8567 - val_accuracy: 0.8121\n",
      "Test loss: 0.8567024716377258\n",
      "Test accuracy: 0.8121\n"
     ]
    }
   ],
   "source": [
    "test_speed_of_device(use_tensorflow = True)"
   ]
  },
  {
   "cell_type": "markdown",
   "metadata": {},
   "source": [
    "TensorFlow2.0的权值初始化方式与Keras的初始化方式并不相同，导致了跑出的结果反而差异比较大。"
   ]
  },
  {
   "cell_type": "markdown",
   "metadata": {},
   "source": [
    "可以看到单个GPU对比单个CPU获得了大约36倍的加速："
   ]
  },
  {
   "cell_type": "code",
   "execution_count": 6,
   "metadata": {},
   "outputs": [
    {
     "name": "stdout",
     "output_type": "stream",
     "text": [
      "Populating the interactive namespace from numpy and matplotlib\n"
     ]
    },
    {
     "data": {
      "image/png": "[encoded data removed]",
      "text/plain": [
       "<Figure size 432x288 with 1 Axes>"
      ]
     },
     "metadata": {
      "image/png": {
       "height": 252,
       "width": 385
      }
     },
     "output_type": "display_data"
    }
   ],
   "source": [
    "%pylab inline\n",
    "%config InlineBackend.figure_format = 'retina'\n",
    "mpl.style.use('ggplot')\n",
    "\n",
    " \n",
    "plt.bar('PlaidML-Keras', 36,  label='GPU',width=0.2)\n",
    "plt.bar('TensorFlow 2.0-Keras', 1, label='CPU',width=0.2)\n",
    "plt.ylabel('Speed')\n",
    "plt.xlim([-0.5,1.5])\n",
    "plt.ylim([0,45])\n",
    "plt.text('PlaidML-Keras', 36 + 0.1, '36x',horizontalalignment='center',verticalalignment='bottom')  \n",
    "plt.text('TensorFlow 2.0-Keras', 1 + 0.1, '1x', ha='center', va='bottom')\n",
    "plt.legend()\n",
    "plt.show()"
   ]
  },
  {
   "cell_type": "code",
   "execution_count": null,
   "metadata": {},
   "outputs": [],
   "source": []
  }
 ],
 "metadata": {
  "kernelspec": {
   "display_name": "Python [conda env:root] *",
   "language": "python",
   "name": "conda-root-py"
  },
  "language_info": {
   "codemirror_mode": {
    "name": "ipython",
    "version": 3
   },
   "file_extension": ".py",
   "mimetype": "text/x-python",
   "name": "python",
   "nbconvert_exporter": "python",
   "pygments_lexer": "ipython3",
   "version": "3.7.4"
  }
 },
 "nbformat": 4,
 "nbformat_minor": 2
}
