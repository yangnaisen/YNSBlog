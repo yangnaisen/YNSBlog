{
 "cells": [
  {
   "cell_type": "markdown",
   "metadata": {},
   "source": [
    "# PyQt5的几点小东西"
   ]
  },
  {
   "cell_type": "markdown",
   "metadata": {},
   "source": [
    "我用的是MacBook，所以基本上只针对Mac适用。"
   ]
  },
  {
   "cell_type": "markdown",
   "metadata": {},
   "source": [
    "## 安装"
   ]
  },
  {
   "cell_type": "markdown",
   "metadata": {},
   "source": [
    "### PyQt5的安装"
   ]
  },
  {
   "cell_type": "markdown",
   "metadata": {},
   "source": [
    "Anaconda中已经自带了PyQt5及其依赖的相应的功能模块，省去了的不少麻烦。如果想升级到最新的版本，可以手动升级：\n",
    "\n",
    "```\n",
    "conda install -c anaconda pyqt\n",
    "```"
   ]
  },
  {
   "cell_type": "markdown",
   "metadata": {},
   "source": [
    "可以导入PyQt5模块，测试是否安装成功。如果不报错，就是成功了："
   ]
  },
  {
   "cell_type": "code",
   "execution_count": 1,
   "metadata": {},
   "outputs": [],
   "source": [
    "import PyQt5"
   ]
  },
  {
   "cell_type": "markdown",
   "metadata": {},
   "source": [
    "当 Anaconda 中创建了比较多的环境时，可以方便查看当前环境里模块的位置："
   ]
  },
  {
   "cell_type": "code",
   "execution_count": 2,
   "metadata": {},
   "outputs": [
    {
     "data": {
      "text/plain": [
       "['/Users/yangnaisen/anaconda/envs/rsbook/lib/python3.6/site-packages/PyQt5']"
      ]
     },
     "execution_count": 2,
     "metadata": {},
     "output_type": "execute_result"
    }
   ],
   "source": [
    "PyQt5.__path__"
   ]
  },
  {
   "cell_type": "markdown",
   "metadata": {},
   "source": [
    "查看相应模块版本："
   ]
  },
  {
   "cell_type": "code",
   "execution_count": 4,
   "metadata": {},
   "outputs": [
    {
     "name": "stdout",
     "output_type": "stream",
     "text": [
      "Qt5 Version Number is: 5.9.6\n",
      "PyQt5 Version is: 5.9.2\n",
      "Sip Version is: 4.19.8\n"
     ]
    }
   ],
   "source": [
    "from PyQt5.QtCore import QT_VERSION_STR\n",
    "from PyQt5.Qt import PYQT_VERSION_STR\n",
    "from sip import SIP_VERSION_STR\n",
    "\n",
    "print(\"Qt5 Version Number is: {0}\".format(QT_VERSION_STR))\n",
    "print(\"PyQt5 Version is: {}\".format(PYQT_VERSION_STR))\n",
    "print(\"Sip Version is: {}\".format(SIP_VERSION_STR))"
   ]
  },
  {
   "cell_type": "markdown",
   "metadata": {},
   "source": [
    "### Qt Designer的安装"
   ]
  },
  {
   "cell_type": "markdown",
   "metadata": {},
   "source": [
    "相应的界面设计软件 Qt Designer，在 bin 文件夹里， 叫作 Designer.app 。可以在命令行使用命令\n",
    "\n",
    "```\n",
    "open -a Designer\n",
    "```\n",
    "\n",
    "来打开软件。Anaconda自带的Designer软件一般不是最新版，需要下载安装最新版本的Qt才能更新，整个安装包比较大。下载地址为：\n",
    "\n",
    "`https://download.qt.io/official_releases/qt/`\n",
    "\n",
    "安装完成后，可以在安装位置文件夹下的 clang_64/bin 中找到 Designer.app。"
   ]
  },
  {
   "cell_type": "markdown",
   "metadata": {},
   "source": [
    "将 Qt Designer 与 VS code 等 IDE 关联的时候，需要选择 Designer 的路径。选择 Designer 的路径时候不要直接选Designer.app的路径， Designer.app只是一个包的名称。而是应该选择它子文件夹下的 Designer：\n",
    "\n",
    "`bin⁩/⁨Designer.app⁩/⁨Contents⁩/MacOS⁩/Designer`"
   ]
  },
  {
   "cell_type": "markdown",
   "metadata": {},
   "source": [
    "## Mac 下的 Main Window组件"
   ]
  },
  {
   "cell_type": "markdown",
   "metadata": {},
   "source": [
    "Mac 下的菜单栏 MenuBar，与 Windows 系统不同，不在标题的下方，而是在整个屏幕的最上方。"
   ]
  },
  {
   "cell_type": "code",
   "execution_count": null,
   "metadata": {},
   "outputs": [],
   "source": []
  }
 ],
 "metadata": {
  "kernelspec": {
   "display_name": "Python 3",
   "language": "python",
   "name": "python3"
  },
  "language_info": {
   "codemirror_mode": {
    "name": "ipython",
    "version": 3
   },
   "file_extension": ".py",
   "mimetype": "text/x-python",
   "name": "python",
   "nbconvert_exporter": "python",
   "pygments_lexer": "ipython3",
   "version": "3.6.7"
  }
 },
 "nbformat": 4,
 "nbformat_minor": 2
}
